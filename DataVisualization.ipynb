{
 "cells": [
  {
   "cell_type": "code",
   "execution_count": 1,
   "metadata": {
    "collapsed": true
   },
   "outputs": [
    {
     "data": {
      "text/html": "        <script type=\"text/javascript\">\n        window.PlotlyConfig = {MathJaxConfig: 'local'};\n        if (window.MathJax) {MathJax.Hub.Config({SVG: {font: \"STIX-Web\"}});}\n        if (typeof require !== 'undefined') {\n        require.undef(\"plotly\");\n        requirejs.config({\n            paths: {\n                'plotly': ['https://cdn.plot.ly/plotly-latest.min']\n            }\n        });\n        require(['plotly'], function(Plotly) {\n            window._Plotly = Plotly;\n        });\n        }\n        </script>\n        "
     },
     "metadata": {},
     "output_type": "display_data"
    }
   ],
   "source": [
    "import numpy as np\n",
    "import pandas as pd\n",
    "import matplotlib.pyplot as plt\n",
    "%matplotlib inline\n",
    "import plotly.offline as py\n",
    "py.init_notebook_mode(connected=True)\n",
    "import plotly.graph_objs as go\n",
    "import plotly.tools as tls\n",
    "import seaborn as sns\n",
    "import time"
   ]
  },
  {
   "cell_type": "markdown",
   "source": [
    "### TODO SECTION\n",
    "- Parallize with PySpark or Dask\n",
    "- Check pandas.replace for similar countries"
   ],
   "metadata": {
    "collapsed": false,
    "pycharm": {
     "name": "#%% md\n"
    }
   }
  },
  {
   "cell_type": "markdown",
   "source": [
    "## Map Temperatues in countries"
   ],
   "metadata": {
    "collapsed": false,
    "pycharm": {
     "name": "#%% md\n",
     "is_executing": true
    }
   }
  },
  {
   "cell_type": "code",
   "execution_count": 2,
   "outputs": [],
   "source": [
    "# Read csv file\n",
    "global_temp = pd.read_csv('./DataSets/GlobalLandTemperaturesByCountry.csv')"
   ],
   "metadata": {
    "collapsed": false,
    "pycharm": {
     "name": "#%%\n"
    }
   }
  },
  {
   "cell_type": "code",
   "execution_count": 3,
   "outputs": [
    {
     "data": {
      "text/plain": "           dt  AverageTemperature  AverageTemperatureUncertainty Country\n0  1743-11-01               4.384                          2.294   Åland\n1  1743-12-01                 NaN                            NaN   Åland\n2  1744-01-01                 NaN                            NaN   Åland\n3  1744-02-01                 NaN                            NaN   Åland\n4  1744-03-01                 NaN                            NaN   Åland",
      "text/html": "<div>\n<style scoped>\n    .dataframe tbody tr th:only-of-type {\n        vertical-align: middle;\n    }\n\n    .dataframe tbody tr th {\n        vertical-align: top;\n    }\n\n    .dataframe thead th {\n        text-align: right;\n    }\n</style>\n<table border=\"1\" class=\"dataframe\">\n  <thead>\n    <tr style=\"text-align: right;\">\n      <th></th>\n      <th>dt</th>\n      <th>AverageTemperature</th>\n      <th>AverageTemperatureUncertainty</th>\n      <th>Country</th>\n    </tr>\n  </thead>\n  <tbody>\n    <tr>\n      <th>0</th>\n      <td>1743-11-01</td>\n      <td>4.384</td>\n      <td>2.294</td>\n      <td>Åland</td>\n    </tr>\n    <tr>\n      <th>1</th>\n      <td>1743-12-01</td>\n      <td>NaN</td>\n      <td>NaN</td>\n      <td>Åland</td>\n    </tr>\n    <tr>\n      <th>2</th>\n      <td>1744-01-01</td>\n      <td>NaN</td>\n      <td>NaN</td>\n      <td>Åland</td>\n    </tr>\n    <tr>\n      <th>3</th>\n      <td>1744-02-01</td>\n      <td>NaN</td>\n      <td>NaN</td>\n      <td>Åland</td>\n    </tr>\n    <tr>\n      <th>4</th>\n      <td>1744-03-01</td>\n      <td>NaN</td>\n      <td>NaN</td>\n      <td>Åland</td>\n    </tr>\n  </tbody>\n</table>\n</div>"
     },
     "execution_count": 3,
     "metadata": {},
     "output_type": "execute_result"
    }
   ],
   "source": [
    "global_temp.head(5)"
   ],
   "metadata": {
    "collapsed": false,
    "pycharm": {
     "name": "#%%\n"
    }
   }
  },
  {
   "cell_type": "code",
   "execution_count": 4,
   "outputs": [
    {
     "name": "stdout",
     "output_type": "stream",
     "text": [
      "Number of rows with null data : \n",
      " dt                                   0\n",
      "AverageTemperature               32651\n",
      "AverageTemperatureUncertainty    31912\n",
      "Country                              0\n",
      "dtype: int64\n"
     ]
    }
   ],
   "source": [
    "#Let's take a look of the data and check if there is any row with NaN or missing values\n",
    "print(\"Number of rows with null data : \\n\", global_temp.isnull().sum())"
   ],
   "metadata": {
    "collapsed": false,
    "pycharm": {
     "name": "#%%\n"
    }
   }
  },
  {
   "cell_type": "code",
   "execution_count": 5,
   "outputs": [],
   "source": [
    "#Let's drop the rows that contains any NaN or missing value\n",
    "global_temp = global_temp.dropna()"
   ],
   "metadata": {
    "collapsed": false,
    "pycharm": {
     "name": "#%%\n"
    }
   }
  },
  {
   "cell_type": "code",
   "execution_count": 6,
   "outputs": [
    {
     "name": "stdout",
     "output_type": "stream",
     "text": [
      "Number of rows with null data after cleaning \n",
      " dt                               0\n",
      "AverageTemperature               0\n",
      "AverageTemperatureUncertainty    0\n",
      "Country                          0\n",
      "dtype: int64\n"
     ]
    }
   ],
   "source": [
    "print(\"Number of rows with null data after cleaning \\n\", global_temp.isnull().sum())\n",
    "#global_temp_country_clear = \\\n",
    "#print(\"Countries: \\n\", global_temp['Country'].unique())"
   ],
   "metadata": {
    "collapsed": false,
    "pycharm": {
     "name": "#%%\n"
    }
   }
  },
  {
   "cell_type": "code",
   "execution_count": 7,
   "outputs": [
    {
     "name": "stdout",
     "output_type": "stream",
     "text": [
      "American Samoa is similar to  Samoa \n",
      "\n",
      "British Virgin Islands is similar to  Virgin Islands \n",
      "\n",
      "Central African Republic is similar to  Africa \n",
      "\n",
      "Congo (Democratic Republic Of The) is similar to  Congo \n",
      "\n",
      "Denmark (Europe) is similar to  Denmark \n",
      "\n",
      "Denmark (Europe) is similar to  Europe \n",
      "\n",
      "Dominican Republic is similar to  Dominica \n",
      "\n",
      "Equatorial Guinea is similar to  Guinea \n",
      "\n",
      "France (Europe) is similar to  Europe \n",
      "\n",
      "France (Europe) is similar to  France \n",
      "\n",
      "Guinea Bissau is similar to  Guinea \n",
      "\n",
      "Netherlands (Europe) is similar to  Europe \n",
      "\n",
      "Netherlands (Europe) is similar to  Netherlands \n",
      "\n",
      "Nigeria is similar to  Niger \n",
      "\n",
      "Papua New Guinea is similar to  Guinea \n",
      "\n",
      "South Africa is similar to  Africa \n",
      "\n",
      "South Georgia And The South Sandwich Isla is similar to  Georgia \n",
      "\n",
      "United Kingdom (Europe) is similar to  Europe \n",
      "\n",
      "United Kingdom (Europe) is similar to  United Kingdom \n",
      "\n"
     ]
    }
   ],
   "source": [
    "for val in global_temp['Country'].unique():\n",
    "    for aux in global_temp['Country'].unique():\n",
    "        if(val != aux and val.find(aux) != -1):\n",
    "            print(val, \"is similar to \", aux, '\\n')"
   ],
   "metadata": {
    "collapsed": false,
    "pycharm": {
     "name": "#%%\n"
    }
   }
  },
  {
   "cell_type": "code",
   "execution_count": 8,
   "outputs": [
    {
     "name": "stdout",
     "output_type": "stream",
     "text": [
      "                dt  AverageTemperature  AverageTemperatureUncertainty Country\n",
      "166364  1743-11-01               3.942                          1.898  Europe\n",
      "166369  1744-04-01               8.249                          2.562  Europe\n",
      "166370  1744-05-01              11.030                          1.702  Europe\n",
      "166371  1744-06-01              15.209                          1.693  Europe\n",
      "166372  1744-07-01              17.498                          1.703  Europe\n",
      "...            ...                 ...                            ...     ...\n",
      "169597  2013-04-01               7.810                          0.262  Europe\n",
      "169598  2013-05-01              13.466                          0.162  Europe\n",
      "169599  2013-06-01              17.096                          0.239  Europe\n",
      "169600  2013-07-01              19.585                          0.210  Europe\n",
      "169601  2013-08-01              18.991                          0.270  Europe\n",
      "\n",
      "[3166 rows x 4 columns]\n"
     ]
    }
   ],
   "source": [
    "print(global_temp.loc[global_temp['Country'] == 'Europe'])\n",
    "#Remove the duplicated countries and countries for which\n",
    "#there is no information about the temperature"
   ],
   "metadata": {
    "collapsed": false,
    "pycharm": {
     "name": "#%%\n"
    }
   }
  },
  {
   "cell_type": "code",
   "execution_count": 8,
   "outputs": [],
   "source": [],
   "metadata": {
    "collapsed": false,
    "pycharm": {
     "name": "#%%\n"
    }
   }
  }
 ],
 "metadata": {
  "kernelspec": {
   "display_name": "Python 3",
   "language": "python",
   "name": "python3"
  },
  "language_info": {
   "codemirror_mode": {
    "name": "ipython",
    "version": 2
   },
   "file_extension": ".py",
   "mimetype": "text/x-python",
   "name": "python",
   "nbconvert_exporter": "python",
   "pygments_lexer": "ipython2",
   "version": "2.7.6"
  }
 },
 "nbformat": 4,
 "nbformat_minor": 0
}