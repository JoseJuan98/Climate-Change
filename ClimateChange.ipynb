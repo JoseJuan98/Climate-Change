{
 "cells": [
  {
   "cell_type": "markdown",
   "source": [
    "# Climate Change\n",
    "### Index\n",
    "1. Data Cleaning\n",
    "2. Data Visualization\n",
    "3."
   ],
   "metadata": {
    "collapsed": false,
    "pycharm": {
     "name": "#%% md\n"
    }
   }
  },
  {
   "cell_type": "markdown",
   "source": [
    "# Libraries"
   ],
   "metadata": {
    "collapsed": false,
    "pycharm": {
     "name": "#%% md\n"
    }
   }
  },
  {
   "cell_type": "code",
   "execution_count": 11,
   "metadata": {
    "collapsed": true
   },
   "outputs": [
    {
     "data": {
      "text/html": "        <script type=\"text/javascript\">\n        window.PlotlyConfig = {MathJaxConfig: 'local'};\n        if (window.MathJax) {MathJax.Hub.Config({SVG: {font: \"STIX-Web\"}});}\n        if (typeof require !== 'undefined') {\n        require.undef(\"plotly\");\n        requirejs.config({\n            paths: {\n                'plotly': ['https://cdn.plot.ly/plotly-latest.min']\n            }\n        });\n        require(['plotly'], function(Plotly) {\n            window._Plotly = Plotly;\n        });\n        }\n        </script>\n        "
     },
     "metadata": {},
     "output_type": "display_data"
    }
   ],
   "source": [
    "import numpy as np\n",
    "import pandas as pd\n",
    "import matplotlib.pyplot as plt\n",
    "%matplotlib inline\n",
    "import plotly.offline as py\n",
    "py.init_notebook_mode(connected=True)\n",
    "import plotly.graph_objs as go\n",
    "import plotly.tools as tls\n",
    "import seaborn as sns\n",
    "import time"
   ]
  },
  {
   "cell_type": "markdown",
   "source": [
    "### TODO SECTION\n",
    "- Parallize with PySpark or Dask\n",
    "- Check pandas.replace for similar countries"
   ],
   "metadata": {
    "collapsed": false,
    "pycharm": {
     "name": "#%% md\n"
    }
   }
  },
  {
   "cell_type": "markdown",
   "source": [
    "## Map Temperatues in countries"
   ],
   "metadata": {
    "collapsed": false,
    "pycharm": {
     "name": "#%% md\n",
     "is_executing": true
    }
   }
  },
  {
   "cell_type": "markdown",
   "source": [
    "Read csv file"
   ],
   "metadata": {
    "collapsed": false,
    "pycharm": {
     "name": "#%% md\n"
    }
   }
  },
  {
   "cell_type": "code",
   "execution_count": 12,
   "outputs": [],
   "source": [
    "global_temp = pd.read_csv('./DataSets/GlobalLandTemperaturesByCountry.csv')"
   ],
   "metadata": {
    "collapsed": false,
    "pycharm": {
     "name": "#%%\n"
    }
   }
  },
  {
   "cell_type": "code",
   "execution_count": 13,
   "outputs": [
    {
     "data": {
      "text/plain": "           dt  AverageTemperature  AverageTemperatureUncertainty Country\n0  1743-11-01               4.384                          2.294   Åland\n1  1743-12-01                 NaN                            NaN   Åland\n2  1744-01-01                 NaN                            NaN   Åland\n3  1744-02-01                 NaN                            NaN   Åland\n4  1744-03-01                 NaN                            NaN   Åland",
      "text/html": "<div>\n<style scoped>\n    .dataframe tbody tr th:only-of-type {\n        vertical-align: middle;\n    }\n\n    .dataframe tbody tr th {\n        vertical-align: top;\n    }\n\n    .dataframe thead th {\n        text-align: right;\n    }\n</style>\n<table border=\"1\" class=\"dataframe\">\n  <thead>\n    <tr style=\"text-align: right;\">\n      <th></th>\n      <th>dt</th>\n      <th>AverageTemperature</th>\n      <th>AverageTemperatureUncertainty</th>\n      <th>Country</th>\n    </tr>\n  </thead>\n  <tbody>\n    <tr>\n      <th>0</th>\n      <td>1743-11-01</td>\n      <td>4.384</td>\n      <td>2.294</td>\n      <td>Åland</td>\n    </tr>\n    <tr>\n      <th>1</th>\n      <td>1743-12-01</td>\n      <td>NaN</td>\n      <td>NaN</td>\n      <td>Åland</td>\n    </tr>\n    <tr>\n      <th>2</th>\n      <td>1744-01-01</td>\n      <td>NaN</td>\n      <td>NaN</td>\n      <td>Åland</td>\n    </tr>\n    <tr>\n      <th>3</th>\n      <td>1744-02-01</td>\n      <td>NaN</td>\n      <td>NaN</td>\n      <td>Åland</td>\n    </tr>\n    <tr>\n      <th>4</th>\n      <td>1744-03-01</td>\n      <td>NaN</td>\n      <td>NaN</td>\n      <td>Åland</td>\n    </tr>\n  </tbody>\n</table>\n</div>"
     },
     "execution_count": 13,
     "metadata": {},
     "output_type": "execute_result"
    }
   ],
   "source": [
    "global_temp.head(5)"
   ],
   "metadata": {
    "collapsed": false,
    "pycharm": {
     "name": "#%%\n"
    }
   }
  },
  {
   "cell_type": "markdown",
   "source": [
    "Let's take a look of the data and check if there is any row with NaN or missing values"
   ],
   "metadata": {
    "collapsed": false,
    "pycharm": {
     "name": "#%% md\n"
    }
   }
  },
  {
   "cell_type": "code",
   "execution_count": 14,
   "outputs": [
    {
     "name": "stdout",
     "output_type": "stream",
     "text": [
      "Number of rows with null data : \n",
      " dt                                   0\n",
      "AverageTemperature               32651\n",
      "AverageTemperatureUncertainty    31912\n",
      "Country                              0\n",
      "dtype: int64\n"
     ]
    }
   ],
   "source": [
    "print(\"Number of rows with null data : \\n\", global_temp.isnull().sum())"
   ],
   "metadata": {
    "collapsed": false,
    "pycharm": {
     "name": "#%%\n"
    }
   }
  },
  {
   "cell_type": "markdown",
   "source": [
    "Let's drop the rows that contains any NaN or missing value"
   ],
   "metadata": {
    "collapsed": false,
    "pycharm": {
     "name": "#%% md\n"
    }
   }
  },
  {
   "cell_type": "code",
   "execution_count": 15,
   "outputs": [],
   "source": [
    "global_temp = global_temp.dropna()"
   ],
   "metadata": {
    "collapsed": false,
    "pycharm": {
     "name": "#%%\n"
    }
   }
  },
  {
   "cell_type": "markdown",
   "source": [
    "Let's check now the number of rows with NaN or missing values"
   ],
   "metadata": {
    "collapsed": false,
    "pycharm": {
     "name": "#%% md\n"
    }
   }
  },
  {
   "cell_type": "code",
   "execution_count": 16,
   "outputs": [
    {
     "name": "stdout",
     "output_type": "stream",
     "text": [
      "dt                               0\n",
      "AverageTemperature               0\n",
      "AverageTemperatureUncertainty    0\n",
      "Country                          0\n",
      "dtype: int64\n"
     ]
    }
   ],
   "source": [
    "print(global_temp.isnull().sum())\n",
    "#global_temp_country_clear = \\\n",
    "#print(\"Countries: \\n\", global_temp['Country'].unique())"
   ],
   "metadata": {
    "collapsed": false,
    "pycharm": {
     "name": "#%%\n"
    }
   }
  },
  {
   "cell_type": "code",
   "execution_count": 38,
   "outputs": [],
   "source": [
    "dupCountries = []\n",
    "countriesShort = []\n",
    "\n",
    "#Exclude 'Europe' for replacing avoids duplicate data. Ex: Netherlands (Europe) will be\n",
    "#replace for Netherlands and for Europe (both), if I wouldn't exclude it\n",
    "\n",
    "for val in global_temp['Country'].unique():\n",
    "    for aux in global_temp['Country'].unique():\n",
    "        if val != aux and val.find(aux) != -1 and aux != 'Europe':\n",
    "#            print(val, \"is similar to \", aux, '\\n')\n",
    "            if len(val) > len(aux):\n",
    "                dupCountries.append(val)\n",
    "                countriesShort.append(aux)\n",
    "            else:\n",
    "                dupCountries.append(aux)\n",
    "                countriesShort.append(val)"
   ],
   "metadata": {
    "collapsed": false,
    "pycharm": {
     "name": "#%%\n"
    }
   }
  },
  {
   "cell_type": "markdown",
   "source": [
    "Duplicated countries:"
   ],
   "metadata": {
    "collapsed": false,
    "pycharm": {
     "name": "#%% md\n"
    }
   }
  },
  {
   "cell_type": "code",
   "execution_count": 39,
   "outputs": [
    {
     "name": "stdout",
     "output_type": "stream",
     "text": [
      "['American Samoa', 'British Virgin Islands', 'Central African Republic', 'Congo (Democratic Republic Of The)', 'Denmark (Europe)', 'Dominican Republic', 'Equatorial Guinea', 'France (Europe)', 'Guinea Bissau', 'Netherlands (Europe)', 'Nigeria', 'Papua New Guinea', 'South Africa', 'South Georgia And The South Sandwich Isla', 'United Kingdom (Europe)']\n"
     ]
    }
   ],
   "source": [
    "print(dupCountries)"
   ],
   "metadata": {
    "collapsed": false,
    "pycharm": {
     "name": "#%%\n"
    }
   }
  },
  {
   "cell_type": "markdown",
   "source": [
    "They are going to be raplace for:"
   ],
   "metadata": {
    "collapsed": false,
    "pycharm": {
     "name": "#%% md\n"
    }
   }
  },
  {
   "cell_type": "code",
   "execution_count": 40,
   "outputs": [
    {
     "name": "stdout",
     "output_type": "stream",
     "text": [
      "['Samoa', 'Virgin Islands', 'Africa', 'Congo', 'Denmark', 'Dominica', 'Guinea', 'France', 'Guinea', 'Netherlands', 'Niger', 'Guinea', 'Africa', 'Georgia', 'United Kingdom']\n"
     ]
    }
   ],
   "source": [
    "print(countriesShort)"
   ],
   "metadata": {
    "collapsed": false,
    "pycharm": {
     "name": "#%%\n"
    }
   }
  },
  {
   "cell_type": "markdown",
   "source": [
    "So, let's remove the duplicated countries."
   ],
   "metadata": {
    "collapsed": false
   }
  },
  {
   "cell_type": "code",
   "execution_count": 44,
   "outputs": [],
   "source": [
    "# ~ is a not operator, so this code returns\n",
    "global_temp_clear = global_temp[~global_temp['Country'].isin(countriesShort)]"
   ],
   "metadata": {
    "collapsed": false,
    "pycharm": {
     "name": "#%%\n"
    }
   }
  },
  {
   "cell_type": "code",
   "execution_count": 45,
   "outputs": [],
   "source": [
    "#Uncomment if you want to see the results\n",
    "#print(global_temp_clear['Country'].unique())"
   ],
   "metadata": {
    "collapsed": false,
    "pycharm": {
     "name": "#%%\n"
    }
   }
  },
  {
   "cell_type": "code",
   "execution_count": 46,
   "outputs": [
    {
     "ename": "TypeError",
     "evalue": "'method' object is not subscriptable",
     "output_type": "error",
     "traceback": [
      "\u001B[0;31m---------------------------------------------------------------------------\u001B[0m",
      "\u001B[0;31mTypeError\u001B[0m                                 Traceback (most recent call last)",
      "\u001B[0;32m<ipython-input-46-a561076adddc>\u001B[0m in \u001B[0;36m<module>\u001B[0;34m\u001B[0m\n\u001B[0;32m----> 1\u001B[0;31m \u001B[0mglobal_temp_clear\u001B[0m \u001B[0;34m=\u001B[0m \u001B[0mglobal_temp_clear\u001B[0m\u001B[0;34m.\u001B[0m\u001B[0mreplace\u001B[0m\u001B[0;34m[\u001B[0m\u001B[0mdupCountries\u001B[0m\u001B[0;34m,\u001B[0m \u001B[0mcountriesShort\u001B[0m\u001B[0;34m]\u001B[0m\u001B[0;34m\u001B[0m\u001B[0;34m\u001B[0m\u001B[0m\n\u001B[0m\u001B[1;32m      2\u001B[0m \u001B[0;34m\u001B[0m\u001B[0m\n",
      "\u001B[0;31mTypeError\u001B[0m: 'method' object is not subscriptable"
     ]
    }
   ],
   "source": [
    "global_temp_clear = global_temp_clear.replace[dupCountries, countriesShort]"
   ],
   "metadata": {
    "collapsed": false,
    "pycharm": {
     "name": "#%%\n"
    }
   }
  },
  {
   "cell_type": "code",
   "execution_count": 47,
   "outputs": [
    {
     "name": "stdout",
     "output_type": "stream",
     "text": [
      "['Åland' 'Afghanistan' 'Albania' 'Algeria' 'American Samoa' 'Andorra'\n",
      " 'Angola' 'Anguilla' 'Antigua And Barbuda' 'Argentina' 'Armenia' 'Aruba'\n",
      " 'Asia' 'Australia' 'Austria' 'Azerbaijan' 'Bahamas' 'Bahrain'\n",
      " 'Baker Island' 'Bangladesh' 'Barbados' 'Belarus' 'Belgium' 'Belize'\n",
      " 'Benin' 'Bhutan' 'Bolivia' 'Bonaire, Saint Eustatius And Saba'\n",
      " 'Bosnia And Herzegovina' 'Botswana' 'Brazil' 'British Virgin Islands'\n",
      " 'Bulgaria' 'Burkina Faso' 'Burma' 'Burundi' \"Côte D'Ivoire\" 'Cambodia'\n",
      " 'Cameroon' 'Canada' 'Cape Verde' 'Cayman Islands'\n",
      " 'Central African Republic' 'Chad' 'Chile' 'China' 'Christmas Island'\n",
      " 'Colombia' 'Comoros' 'Congo (Democratic Republic Of The)' 'Costa Rica'\n",
      " 'Croatia' 'Cuba' 'Curaçao' 'Cyprus' 'Czech Republic' 'Denmark (Europe)'\n",
      " 'Djibouti' 'Dominican Republic' 'Ecuador' 'Egypt' 'El Salvador'\n",
      " 'Equatorial Guinea' 'Eritrea' 'Estonia' 'Ethiopia' 'Europe'\n",
      " 'Falkland Islands (Islas Malvinas)' 'Faroe Islands'\n",
      " 'Federated States Of Micronesia' 'Fiji' 'Finland' 'France (Europe)'\n",
      " 'French Guiana' 'French Polynesia' 'French Southern And Antarctic Lands'\n",
      " 'Gabon' 'Gambia' 'Gaza Strip' 'Germany' 'Ghana' 'Greece' 'Greenland'\n",
      " 'Grenada' 'Guadeloupe' 'Guam' 'Guatemala' 'Guernsey' 'Guinea Bissau'\n",
      " 'Guyana' 'Haiti' 'Heard Island And Mcdonald Islands' 'Honduras'\n",
      " 'Hong Kong' 'Hungary' 'Iceland' 'India' 'Indonesia' 'Iran' 'Iraq'\n",
      " 'Ireland' 'Isle Of Man' 'Israel' 'Italy' 'Jamaica' 'Japan' 'Jersey'\n",
      " 'Jordan' 'Kazakhstan' 'Kenya' 'Kingman Reef' 'Kiribati' 'Kuwait'\n",
      " 'Kyrgyzstan' 'Laos' 'Latvia' 'Lebanon' 'Lesotho' 'Liberia' 'Libya'\n",
      " 'Liechtenstein' 'Lithuania' 'Luxembourg' 'Macau' 'Macedonia' 'Madagascar'\n",
      " 'Malawi' 'Malaysia' 'Mali' 'Malta' 'Martinique' 'Mauritania' 'Mauritius'\n",
      " 'Mayotte' 'Mexico' 'Moldova' 'Monaco' 'Mongolia' 'Montenegro'\n",
      " 'Montserrat' 'Morocco' 'Mozambique' 'Namibia' 'Nepal'\n",
      " 'Netherlands (Europe)' 'New Caledonia' 'New Zealand' 'Nicaragua'\n",
      " 'Nigeria' 'Niue' 'North America' 'North Korea' 'Northern Mariana Islands'\n",
      " 'Norway' 'Oceania' 'Oman' 'Pakistan' 'Palau' 'Palestina' 'Palmyra Atoll'\n",
      " 'Panama' 'Papua New Guinea' 'Paraguay' 'Peru' 'Philippines' 'Poland'\n",
      " 'Portugal' 'Puerto Rico' 'Qatar' 'Reunion' 'Romania' 'Russia' 'Rwanda'\n",
      " 'Saint Barthélemy' 'Saint Kitts And Nevis' 'Saint Lucia' 'Saint Martin'\n",
      " 'Saint Pierre And Miquelon' 'Saint Vincent And The Grenadines'\n",
      " 'San Marino' 'Sao Tome And Principe' 'Saudi Arabia' 'Senegal' 'Serbia'\n",
      " 'Seychelles' 'Sierra Leone' 'Singapore' 'Sint Maarten' 'Slovakia'\n",
      " 'Slovenia' 'Solomon Islands' 'Somalia' 'South Africa' 'South America'\n",
      " 'South Georgia And The South Sandwich Isla' 'South Korea' 'Spain'\n",
      " 'Sri Lanka' 'Sudan' 'Suriname' 'Svalbard And Jan Mayen' 'Swaziland'\n",
      " 'Sweden' 'Switzerland' 'Syria' 'Taiwan' 'Tajikistan' 'Tanzania'\n",
      " 'Thailand' 'Timor Leste' 'Togo' 'Tonga' 'Trinidad And Tobago' 'Tunisia'\n",
      " 'Turkey' 'Turkmenistan' 'Turks And Caicas Islands' 'Uganda' 'Ukraine'\n",
      " 'United Arab Emirates' 'United Kingdom (Europe)' 'United States'\n",
      " 'Uruguay' 'Uzbekistan' 'Venezuela' 'Vietnam' 'Western Sahara' 'Yemen'\n",
      " 'Zambia' 'Zimbabwe']\n"
     ]
    }
   ],
   "source": [
    "print(global_temp_clear['Country'].unique())\n"
   ],
   "metadata": {
    "collapsed": false,
    "pycharm": {
     "name": "#%%\n"
    }
   }
  },
  {
   "cell_type": "code",
   "execution_count": null,
   "outputs": [],
   "source": [],
   "metadata": {
    "collapsed": false,
    "pycharm": {
     "name": "#%%\n"
    }
   }
  }
 ],
 "metadata": {
  "kernelspec": {
   "display_name": "Python 3",
   "language": "python",
   "name": "python3"
  },
  "language_info": {
   "codemirror_mode": {
    "name": "ipython",
    "version": 2
   },
   "file_extension": ".py",
   "mimetype": "text/x-python",
   "name": "python",
   "nbconvert_exporter": "python",
   "pygments_lexer": "ipython2",
   "version": "2.7.6"
  }
 },
 "nbformat": 4,
 "nbformat_minor": 0
}